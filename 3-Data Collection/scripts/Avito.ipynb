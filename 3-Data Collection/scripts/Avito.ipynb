{
 "cells": [
  {
   "cell_type": "code",
   "execution_count": 1,
   "metadata": {},
   "outputs": [],
   "source": [
    "from selenium import webdriver \n",
    "from selenium.webdriver.chrome.service import Service\n",
    "from webdriver_manager.chrome import ChromeDriverManager\n",
    "from selenium.webdriver.common.by import By\n",
    "import time\n",
    "from selenium.webdriver.common.keys import Keys\n",
    "import pandas as pd"
   ]
  },
  {
   "cell_type": "code",
   "execution_count": 4,
   "metadata": {},
   "outputs": [],
   "source": [
    "driver = webdriver.Chrome(service=Service(ChromeDriverManager().install()))\n",
    "link=\"https://www.avito.ma/fr/maroc/à_vendre\"\n",
    "driver.get(link)"
   ]
  },
  {
   "cell_type": "code",
   "execution_count": 8,
   "metadata": {},
   "outputs": [],
   "source": [
    "#search laptops\n",
    "search_bar = driver.find_element(By.CLASS_NAME, \"sc-1i9i8oo-0\")\n",
    "search_bar.send_keys(\"laptop\")\n",
    "search_bar.send_keys(Keys.ENTER)"
   ]
  },
  {
   "cell_type": "code",
   "execution_count": 9,
   "metadata": {},
   "outputs": [],
   "source": [
    "city = driver.find_elements(By.CLASS_NAME, \"sc-13f8628-0\")[1]\n",
    "city.click()\n",
    "rabat= city.find_element(By.XPATH, \"//body/div[@id='__next']/div[1]/main[1]/div[1]/div[3]/div[1]/div[1]/form[1]/div[1]/div[1]/div[3]/div[1]/div[1]/div[1]/div[2]/div[1]/button[2]/div[1]/span[1]\")\n",
    "rabat.click()\n",
    "valider = driver.find_element(By.XPATH, \"//body/div[@id='__next']/div[1]/main[1]/div[1]/div[3]/div[1]/div[1]/form[1]/div[1]/div[1]/div[3]/div[1]/div[1]/div[2]/button[2]\")\n",
    "valider.click()\n",
    "recherche = driver.find_element(By.XPATH, \"//body/div[@id='__next']/div[1]/main[1]/div[1]/div[3]/div[1]/div[1]/form[1]/div[3]/button[1]\")\n",
    "recherche.click()"
   ]
  },
  {
   "cell_type": "code",
   "execution_count": 10,
   "metadata": {},
   "outputs": [
    {
     "name": "stdout",
     "output_type": "stream",
     "text": [
      "https://www.avito.ma/fr/agdal/ordinateurs_portables/Surface_Laptop_4_Core_I5_11eme_generation_16__512__51752277.htm\n",
      "https://www.avito.ma/fr/rabat/ordinateurs_portables/Microsoft_Surface_4_i7_11th_gen_16GB_DDR4_256G_SSD_48960721.htm\n",
      "https://www.avito.ma/fr/quartier_de_locean/ordinateurs_portables/Pc_portable___HP_laptop_15_dw1xxx_51764098.htm\n",
      "https://www.avito.ma/fr/rabat/ordinateurs_portables/Microsoft_Surface_Laptop_4_i7_50891844.htm\n",
      "https://www.avito.ma/fr/medina_de_rabat/ordinateurs_portables/surface_laptop_4_51758298.htm\n",
      "https://www.avito.ma/fr/quartier_de_locean/ordinateurs_portables/SurFace_Laptop_AMD_Razyan_7_promo_51707415.htm\n",
      "https://www.avito.ma/fr/medina_de_rabat/ordinateurs_portables/Lenovo_ThinkPad_T480s_14_FHD_Laptop_i5_7th_Gen_51279263.htm\n",
      "https://www.avito.ma/fr/hassan/ordinateurs_portables/Dell_Alienware_x17_R2_Laptop_Gamer_i9_12900HK__51740453.htm\n",
      "https://www.avito.ma/fr/agdal/ordinateurs_portables/HP_Laptop_14___Core_I7_11eme_generation__51481194.htm\n",
      "https://www.avito.ma/fr/agdal/ordinateurs_portables/HP_Laptop_15___I7_11eme_Gen_16_Go_RAM_512_SSD_51502570.htm\n",
      "https://www.avito.ma/fr/agdal/ordinateurs_portables/HP_Spectre_x360_Convertible_Laptop_51758124.htm\n",
      "https://www.avito.ma/fr/agdal/ordinateurs_portables/LAPTOP_GAMING_MSI_STEALTH_15M_51757991.htm\n",
      "https://www.avito.ma/fr/hay_riad/ordinateurs_portables/Dell_Inspiron_i7_10th_16GB_RAM_Nvidia_51751326.htm\n",
      "https://www.avito.ma/fr/medina_de_rabat/ordinateurs_portables/Surface_Laptop_Studio_14_4_i5__16_256GB__51521370.htm\n",
      "https://www.avito.ma/fr/agdal/ordinateurs_portables/Dell_Latitude_i7_8GEN_SSD_1To_24G_RAM_tactile_51737073.htm\n",
      "https://www.avito.ma/fr/agdal/ordinateurs_portables/Dell_Latitude_i7_8GEN_SSD_1To_32G_RAM_tactile_51737069.htm\n",
      "https://www.avito.ma/fr/agdal/ordinateurs_portables/Msi_i7_7700Hq___16_Ram___gtx_1070_8gb__15_6_120hz_51732683.htm\n",
      "https://www.avito.ma/fr/yacoub_el_mansour/ordinateurs_portables/HP_OMEN_LAPTOP_15_RTX_3070_RYZEN_7_51727905.htm\n",
      "https://www.avito.ma/fr/agdal/ordinateurs_portables/HP_ZBook_StudioG8_Mobile_Workstation__i7_11th_gen_51676068.htm\n",
      "https://www.avito.ma/fr/quartier_de_locean/ordinateurs_portables/Dell_G15_5510_Gaming_Laptop__RTX3050_51678116.htm\n",
      "https://www.avito.ma/fr/autre_secteur/ordinateurs_portables/HP_PAVILLION_LAPTOP_i7_11_%C3%A9me_8GB_256_GB_NVME_50384431.htm\n",
      "https://www.avito.ma/fr/hassan/ordinateurs_portables/Asus_Zenbook_14_importe_neuf_des_USA_51719450.htm\n",
      "https://www.avito.ma/fr/hassan/ordinateurs_portables/Nitro_5_i5_11400H_RTX_3050_Laptop_Gamer_51701050.htm\n",
      "https://www.avito.ma/fr/abi_ragrag/ordinateurs_portables/Dell_Precision_3520_i7_7820HQ_Laptop_Pro_51699377.htm\n",
      "https://www.avito.ma/fr/autre_secteur/ordinateurs_portables/_HP_15S_GOLD_PROF_i7_11_TH_12_GB_512_NVME__51246585.htm\n",
      "https://www.avito.ma/fr/medina_de_rabat/ordinateurs_portables/PC_GAMER_Lenovo_Legion_5_17ITH6H_82JM000FGE_51685371.htm\n",
      "https://www.avito.ma/fr/al_irfane/ordinateurs_portables/LAPTOP_GAMING_MSI_STEALTH_15M_51678897.htm\n",
      "https://www.avito.ma/fr/quartier_de_locean/ordinateurs_portables/GIGABYTE_A5_X1_R9_5900_RTX_3070_51678340.htm\n",
      "https://www.avito.ma/fr/al_irfane/accessoires_informatique_et_gadgets/Verrou_Kensington_N17_Dell_Laptop_Lock_51669487.htm\n",
      "https://www.avito.ma/fr/aakkari/ordinateurs_portables/HP_VICTUS_16_i7_11th_gen_16_512___Gaming_144Hz_51669317.htm\n",
      "https://www.avito.ma/fr/rabat/ordinateurs_portables/2021_Dell_Inspiron_15_51663727.htm\n",
      "https://www.avito.ma/fr/agdal/ordinateurs_bureau/HP_Business_Slim_Laptop_bag_51656782.htm\n",
      "https://www.avito.ma/fr/hassan/ordinateurs_portables/LAPTOP_GAMER_ROG_Strix_G17_G713_51652537.htm\n",
      "https://www.avito.ma/fr/hassan/ordinateurs_portables/Pc_Portable_ThinkPad_X260_Ultrabook_Laptop_51652372.htm\n",
      "https://www.avito.ma/fr/agdal/ordinateurs_portables/Dell_Alienware_x17_R2___Gaming_laptop___51640438.htm\n"
     ]
    }
   ],
   "source": [
    "annonces= driver.find_elements(By.XPATH, \"//body/div[@id='__next']/div[1]/main[1]/div[1]/div[6]/div[1]/div[1]/div[2]/div/a[1]\")\n",
    "links=[]\n",
    "for annonce in annonces:\n",
    "    print(annonce.get_attribute(\"href\"))\n",
    "    links.append(annonce.get_attribute(\"href\"))"
   ]
  },
  {
   "cell_type": "code",
   "execution_count": 11,
   "metadata": {},
   "outputs": [
    {
     "name": "stdout",
     "output_type": "stream",
     "text": [
      "['Surface Laptop 4 Core I5 11eme generation 16 512', 'Microsoft Surface 4 i7 11th gen 16GB DDR4 256G SSD', 'Pc portable - HP laptop 15-dw1xxx', 'Microsoft Surface Laptop 4 i7', 'surface laptop 4', 'SurFace Laptop AMD Razyan 7 promo', 'Lenovo ThinkPad T480s 14 FHD Laptop i5 7th Gen', 'Dell Alienware x17 R2 Laptop Gamer i9-12900HK', 'HP Laptop 14 - Core I7 11eme generation', 'HP Laptop 15 - I7 11eme Gen 16 Go RAM 512 SSD'] ['7\\u202f700 DH', '10\\u202f500 DH', '1\\u202f900 DH', 'PRIX NON SPÉCIFIÉ', '12\\u202f000 DH', '9\\u202f800 DH', '3\\u202f300 DH', '47\\u202f000 DH', '6\\u202f800 DH', '6\\u202f700 DH'] ['https://content.avito.ma/classifieds/images/10084593860?t=images', 'https://content.avito.ma/classifieds/images/10053374875?t=images', 'https://content.avito.ma/classifieds/images/10084712841?t=images', 'https://content.avito.ma/classifieds/images/10075104005?t=images', 'https://content.avito.ma/classifieds/images/10084658753?t=images', 'https://content.avito.ma/classifieds/images/10084133768?t=images', 'https://content.avito.ma/classifieds/images/10079371611?t=images', 'https://content.avito.ma/classifieds/images/10084481034?t=images', 'https://content.avito.ma/classifieds/images/10081752694?t=images', 'https://content.avito.ma/classifieds/images/10084259609?t=images']\n"
     ]
    }
   ],
   "source": [
    "informations={\"noms\":[],\"prices\":[],\"images\":[]}\n",
    "for i in range(0,10):\n",
    "    driver.get(links[i])\n",
    "    try : \n",
    "        nom = driver.find_element(By.XPATH, \"/html[1]/body[1]/div[1]/div[1]/main[1]/div[1]/div[2]/div[1]/div[2]/div[1]/div[1]/div[2]/div[1]/div[1]/div[1]/h1[1]\").text\n",
    "        prix = driver.find_element(By.XPATH, \"/html[1]/body[1]/div[1]/div[1]/main[1]/div[1]/div[2]/div[1]/div[2]/div[1]/div[1]/div[2]/div[1]/div[1]/div[2]/p[1]\").text\n",
    "        image= driver.find_element(By.XPATH, \"/html[1]/body[1]/div[1]/div[1]/main[1]/div[1]/div[2]/div[1]/div[2]/div[1]/div[1]/div[1]/div[1]/div[2]/div[1]/div[1]/div[1]/div[1]/div[1]/div[1]/div[1]/img[1]\").get_attribute(\"src\")\n",
    "    except:\n",
    "        nom=driver.find_element(By.XPATH, \"/html[1]/body[1]/div[1]/div[1]/main[1]/div[1]/div[2]/div[1]/div[2]/div[1]/div[1]/div[3]/div[1]/div[1]/div[1]/h1[1]\").text\n",
    "        prix= driver.find_element(By.XPATH, \"/html[1]/body[1]/div[1]/div[1]/main[1]/div[1]/div[2]/div[1]/div[2]/div[1]/div[1]/div[3]/div[1]/div[1]/div[2]/p[1]\").text\n",
    "        image= driver.find_element(By.XPATH, \"/html[1]/body[1]/div[1]/div[1]/main[1]/div[1]/div[2]/div[1]/div[2]/div[1]/div[1]/div[1]/div[1]/div[2]/div[1]/div[1]/div[1]/div[1]/div[1]/div[1]/div[1]/img[1]\").get_attribute(\"src\")\n",
    "    informations[\"noms\"].append(nom)\n",
    "    informations[\"prices\"].append(prix)\n",
    "    informations[\"images\"].append(image)        \n",
    "print(informations[\"noms\"],informations[\"prices\"],informations[\"images\"])"
   ]
  },
  {
   "cell_type": "code",
   "execution_count": 12,
   "metadata": {},
   "outputs": [],
   "source": [
    "df=pd.DataFrame(informations)\n"
   ]
  },
  {
   "cell_type": "code",
   "execution_count": 15,
   "metadata": {},
   "outputs": [],
   "source": [
    "    # Create a Pandas Excel writer using XlsxWriter as the engine.\n",
    "writer = pd.ExcelWriter(\"avito.xlsx\", engine='xlsxwriter')"
   ]
  },
  {
   "cell_type": "code",
   "execution_count": 16,
   "metadata": {},
   "outputs": [],
   "source": [
    "# Convert the dataframe to an XlsxWriter Excel object.\n",
    "df.to_excel(writer, sheet_name='avito', index=False)"
   ]
  },
  {
   "cell_type": "code",
   "execution_count": 17,
   "metadata": {},
   "outputs": [],
   "source": [
    "# Close the Pandas Excel writer and output the Excel file.\n",
    "writer.close()"
   ]
  }
 ],
 "metadata": {
  "kernelspec": {
   "display_name": "Python 3.10.8 64-bit",
   "language": "python",
   "name": "python3"
  },
  "language_info": {
   "codemirror_mode": {
    "name": "ipython",
    "version": 3
   },
   "file_extension": ".py",
   "mimetype": "text/x-python",
   "name": "python",
   "nbconvert_exporter": "python",
   "pygments_lexer": "ipython3",
   "version": "3.10.8"
  },
  "orig_nbformat": 4,
  "vscode": {
   "interpreter": {
    "hash": "63963b3f4c440940f0b94a3100916033a226cb4f45979123153792d60aa56d6a"
   }
  }
 },
 "nbformat": 4,
 "nbformat_minor": 2
}
